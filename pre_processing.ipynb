{
 "cells": [
  {
   "cell_type": "code",
   "execution_count": 19,
   "metadata": {},
   "outputs": [],
   "source": [
    "import pandas as pd"
   ]
  },
  {
   "cell_type": "code",
   "execution_count": 20,
   "metadata": {},
   "outputs": [],
   "source": [
    "death = pd.read_csv(\"https://raw.githubusercontent.com/rfordatascience/tidytuesday/master/data/2018/2018-11-13/malaria_deaths_age.csv\")"
   ]
  },
  {
   "cell_type": "code",
   "execution_count": 21,
   "metadata": {},
   "outputs": [],
   "source": [
    "africanLocs = [\"Algeria\",\n",
    "                \"Angola\",\n",
    "                \"Benin\",\n",
    "                \"Botswana\",\n",
    "                \"Burkina\",\n",
    "                \"Burundi\",\n",
    "                \"Cameroon\",\n",
    "                \"Cape Verde\",\n",
    "                \"Central African Republic\",\n",
    "                \"Chad\",\n",
    "                \"Comoros\",\n",
    "                \"Congo\",\n",
    "                \"Congo - Democratic Republic of Congo\",\n",
    "                \"Djibouti\",\n",
    "                \"Egypt\",\n",
    "                \"Equatorial Guinea\",\n",
    "                \"Eritrea\",\n",
    "                \"Ethiopia\",\n",
    "                \"Gabon\",\n",
    "                \"Gambia\",\n",
    "                \"Ghana\",\n",
    "                \"Guinea\",\n",
    "                \"Guinea-Bissau\",\n",
    "                \"Ivory Coast\",\n",
    "                \"Kenya\",\n",
    "                \"Lesotho\",\n",
    "                \"Liberia\",\n",
    "                \"Libya\",\n",
    "                \"Madagascar\",\n",
    "                \"Malawi\",\n",
    "                \"Mali\",\n",
    "                \"Mauritania\",\n",
    "                \"Mauritius\",\n",
    "                \"Morocco\",\n",
    "                \"Mozambique\",\n",
    "                \"Namibia\",\n",
    "                \"Niger\",\n",
    "                \"Nigeria\",\n",
    "                \"Rwanda\",\n",
    "                \"Sao Tome and Principe\",\n",
    "                \"Senegal\",\n",
    "                \"Seychelles\",\n",
    "                \"Sierra Leone\",\n",
    "                \"Somalia\",\n",
    "                \"South Africa\",\n",
    "                \"South Sudan\",\n",
    "                \"Sudan\",\n",
    "                \"Swaziland\",\n",
    "                \"Tanzania\",\n",
    "                \"Togo\",\n",
    "                \"Tunisia\",\n",
    "                \"Uganda\",\n",
    "                \"Zambia\",\n",
    "                \"Zimbabwe\"]"
   ]
  },
  {
   "cell_type": "code",
   "execution_count": 22,
   "metadata": {},
   "outputs": [],
   "source": [
    "africanLocs_From_json = [\n",
    "\"Algeria\",\n",
    "\"Angola\",\n",
    "\"Benin\",\n",
    "\"Botswana\",\n",
    "\"Burkina Faso\",\n",
    "\"Burundi\",\n",
    "\"Cameroon\",\n",
    "\"Cape Verde\",\n",
    "\"Central African Republic\",\n",
    "\"Chad\",\n",
    "\"Comoros\",\n",
    "\"Congo\",\n",
    "\"Côte d'Ivoire\",\n",
    "\"Democratic Republic of the Congo\",\n",
    "\"Djibouti\",\n",
    "\"Egypt\",\n",
    "\"Equatorial Guinea\",\n",
    "\"Eritrea\",\n",
    "\"Eswatini\",\n",
    "\"Ethiopia\",\n",
    "\"Gabon\",\n",
    "\"Gambia\",\n",
    "\"Ghana\",\n",
    "\"Guinea\",\n",
    "\"Guinea-Bissau\",\n",
    "\"Kenya\",\n",
    "\"Lesotho\",\n",
    "\"Liberia\",\n",
    "\"Libya\",\n",
    "\"Madagascar\",\n",
    "\"Malawi\",\n",
    "\"Mali\",\n",
    "\"Mauritania\",\n",
    "\"Mauritius\",\n",
    "\"Morocco\",\n",
    "\"Mozambique\",\n",
    "\"Namibia\",\n",
    "\"Niger\",\n",
    "\"Nigeria\",\n",
    "\"Rwanda\",\n",
    "\"São Tomé and Príncipe\",\n",
    "\"Senegal\",\n",
    "\"Seychelles\",\n",
    "\"Sierra Leone\",\n",
    "\"Somalia\",\n",
    "\"South Africa\",\n",
    "\"South Sudan\",\n",
    "\"Sudan\",\n",
    "\"Tanzania\",\n",
    "\"Togo\",\n",
    "\"Tunisia\",\n",
    "\"Uganda\",\n",
    "\"Zambia\",\n",
    "\"Zimbabwe\"\n",
    "]"
   ]
  },
  {
   "cell_type": "code",
   "execution_count": 23,
   "metadata": {},
   "outputs": [],
   "source": [
    "countriesOnly = death[death['entity'].isin(africanLocs_From_json)]"
   ]
  },
  {
   "cell_type": "code",
   "execution_count": 24,
   "metadata": {},
   "outputs": [],
   "source": [
    "countriesOnly.to_csv(\"African_Countries_Only_Malaria.csv\")"
   ]
  },
  {
   "cell_type": "code",
   "execution_count": 11,
   "metadata": {},
   "outputs": [
    {
     "data": {
      "text/plain": [
       "False"
      ]
     },
     "execution_count": 11,
     "metadata": {},
     "output_type": "execute_result"
    }
   ],
   "source": [
    "africanLocs_From_json == africanLocs"
   ]
  }
 ],
 "metadata": {
  "kernelspec": {
   "display_name": "Python 3",
   "language": "python",
   "name": "python3"
  },
  "language_info": {
   "codemirror_mode": {
    "name": "ipython",
    "version": 3
   },
   "file_extension": ".py",
   "mimetype": "text/x-python",
   "name": "python",
   "nbconvert_exporter": "python",
   "pygments_lexer": "ipython3",
   "version": "3.9.13"
  },
  "orig_nbformat": 4,
  "vscode": {
   "interpreter": {
    "hash": "495940ff203dc9e5b808dd4cf72eb832ad23718a58e460d374e2b850330da7c9"
   }
  }
 },
 "nbformat": 4,
 "nbformat_minor": 2
}
