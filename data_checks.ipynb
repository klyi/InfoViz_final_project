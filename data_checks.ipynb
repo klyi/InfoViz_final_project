{
 "cells": [
  {
   "cell_type": "code",
   "execution_count": 8,
   "metadata": {},
   "outputs": [],
   "source": [
    "import pandas as pd"
   ]
  },
  {
   "cell_type": "code",
   "execution_count": 35,
   "metadata": {},
   "outputs": [],
   "source": [
    "data = pd.read_csv(\"https://raw.githubusercontent.com/klyi/InfoViz_final_project/main/movies_data.csv\")\n"
   ]
  },
  {
   "cell_type": "code",
   "execution_count": 10,
   "metadata": {},
   "outputs": [
    {
     "data": {
      "text/plain": [
       "<bound method Series.mode of 0        6/22/2007\n",
       "1        7/28/1995\n",
       "2        5/12/2017\n",
       "3       12/25/2013\n",
       "4        6/22/2018\n",
       "           ...    \n",
       "3396    10/28/2011\n",
       "3397     7/14/2000\n",
       "3398     3/28/1997\n",
       "3399     8/28/1998\n",
       "3400     7/22/2005\n",
       "Name: release_date, Length: 3401, dtype: object>"
      ]
     },
     "execution_count": 10,
     "metadata": {},
     "output_type": "execute_result"
    }
   ],
   "source": [
    "data['release_date'].mode"
   ]
  },
  {
   "cell_type": "code",
   "execution_count": 22,
   "metadata": {},
   "outputs": [],
   "source": [
    "grouped = data.groupby([\"year\",\"release_date\"])"
   ]
  },
  {
   "cell_type": "code",
   "execution_count": 72,
   "metadata": {},
   "outputs": [
    {
     "data": {
      "text/html": [
       "<div>\n",
       "<style scoped>\n",
       "    .dataframe tbody tr th:only-of-type {\n",
       "        vertical-align: middle;\n",
       "    }\n",
       "\n",
       "    .dataframe tbody tr th {\n",
       "        vertical-align: top;\n",
       "    }\n",
       "\n",
       "    .dataframe thead th {\n",
       "        text-align: right;\n",
       "    }\n",
       "</style>\n",
       "<table border=\"1\" class=\"dataframe\">\n",
       "  <thead>\n",
       "    <tr style=\"text-align: right;\">\n",
       "      <th></th>\n",
       "      <th>Unnamed: 0</th>\n",
       "      <th>release_date</th>\n",
       "      <th>movie</th>\n",
       "      <th>production_budget</th>\n",
       "      <th>domestic_gross</th>\n",
       "      <th>worldwide_gross</th>\n",
       "      <th>distributor</th>\n",
       "      <th>mpaa_rating</th>\n",
       "      <th>genre</th>\n",
       "      <th>year</th>\n",
       "    </tr>\n",
       "  </thead>\n",
       "  <tbody>\n",
       "    <tr>\n",
       "      <th>2744</th>\n",
       "      <td>2744</td>\n",
       "      <td>10/17/1956</td>\n",
       "      <td>Around the World in 80 Days</td>\n",
       "      <td>6000000.0</td>\n",
       "      <td>42000000.0</td>\n",
       "      <td>42000000.0</td>\n",
       "      <td>United Artists</td>\n",
       "      <td>PG</td>\n",
       "      <td>Adventure</td>\n",
       "      <td>1956</td>\n",
       "    </tr>\n",
       "    <tr>\n",
       "      <th>3015</th>\n",
       "      <td>3015</td>\n",
       "      <td>2/16/1956</td>\n",
       "      <td>Carousel</td>\n",
       "      <td>3380000.0</td>\n",
       "      <td>0.0</td>\n",
       "      <td>3220.0</td>\n",
       "      <td>20th Century Fox</td>\n",
       "      <td>NaN</td>\n",
       "      <td>Drama</td>\n",
       "      <td>1956</td>\n",
       "    </tr>\n",
       "  </tbody>\n",
       "</table>\n",
       "</div>"
      ],
      "text/plain": [
       "      Unnamed: 0 release_date                        movie  production_budget  \\\n",
       "2744        2744   10/17/1956  Around the World in 80 Days          6000000.0   \n",
       "3015        3015    2/16/1956                     Carousel          3380000.0   \n",
       "\n",
       "      domestic_gross  worldwide_gross       distributor mpaa_rating  \\\n",
       "2744      42000000.0       42000000.0    United Artists          PG   \n",
       "3015             0.0           3220.0  20th Century Fox         NaN   \n",
       "\n",
       "          genre  year  \n",
       "2744  Adventure  1956  \n",
       "3015      Drama  1956  "
      ]
     },
     "execution_count": 72,
     "metadata": {},
     "output_type": "execute_result"
    }
   ],
   "source": [
    "data[data['year']==1956]"
   ]
  }
 ],
 "metadata": {
  "kernelspec": {
   "display_name": "Python 3",
   "language": "python",
   "name": "python3"
  },
  "language_info": {
   "codemirror_mode": {
    "name": "ipython",
    "version": 3
   },
   "file_extension": ".py",
   "mimetype": "text/x-python",
   "name": "python",
   "nbconvert_exporter": "python",
   "pygments_lexer": "ipython3",
   "version": "3.9.13"
  },
  "orig_nbformat": 4
 },
 "nbformat": 4,
 "nbformat_minor": 2
}
