{
 "cells": [
  {
   "cell_type": "code",
   "execution_count": 2,
   "metadata": {},
   "outputs": [],
   "source": [
    "import pandas as pd"
   ]
  },
  {
   "cell_type": "code",
   "execution_count": 3,
   "metadata": {},
   "outputs": [],
   "source": [
    "data = pd.read_csv(\"https://raw.githubusercontent.com/klyi/InfoViz_final_project/main/global_mortality.csv\")"
   ]
  },
  {
   "cell_type": "code",
   "execution_count": 5,
   "metadata": {},
   "outputs": [],
   "source": [
    "# data[[\"Road accidents (%)\", \"year\",\"country\"]].value_counts()"
   ]
  },
  {
   "cell_type": "code",
   "execution_count": 6,
   "metadata": {},
   "outputs": [
    {
     "name": "stdout",
     "output_type": "stream",
     "text": [
      "country <class 'str'>\n",
      "country_code <class 'str'>\n",
      "year <class 'str'>\n",
      "Cardiovascular diseases (%) <class 'str'>\n",
      "Cancers (%) <class 'str'>\n",
      "Respiratory diseases (%) <class 'str'>\n",
      "Diabetes (%) <class 'str'>\n",
      "Dementia (%) <class 'str'>\n",
      "Lower respiratory infections (%) <class 'str'>\n",
      "Neonatal deaths (%) <class 'str'>\n",
      "Diarrheal diseases (%) <class 'str'>\n",
      "Road_accidents <class 'str'>\n",
      "Liver disease (%) <class 'str'>\n",
      "Tuberculosis (%) <class 'str'>\n",
      "Kidney disease (%) <class 'str'>\n",
      "Digestive diseases (%) <class 'str'>\n",
      "HIV/AIDS (%) <class 'str'>\n",
      "Suicide (%) <class 'str'>\n",
      "Malaria (%) <class 'str'>\n",
      "Homicide (%) <class 'str'>\n",
      "Nutritional deficiencies (%) <class 'str'>\n",
      "Meningitis (%) <class 'str'>\n",
      "Protein-energy malnutrition (%) <class 'str'>\n",
      "Drowning (%) <class 'str'>\n",
      "Maternal deaths (%) <class 'str'>\n",
      "Parkinson disease (%) <class 'str'>\n",
      "Alcohol disorders (%) <class 'str'>\n",
      "Intestinal infectious diseases (%) <class 'str'>\n",
      "Drug disorders (%) <class 'str'>\n",
      "Hepatitis (%) <class 'str'>\n",
      "Fire (%) <class 'str'>\n",
      "Heat-related (hot and cold exposure) (%) <class 'str'>\n",
      "Natural disasters (%) <class 'str'>\n",
      "Conflict (%) <class 'str'>\n",
      "Terrorism (%) <class 'str'>\n"
     ]
    }
   ],
   "source": [
    "for col in data.columns:\n",
    "    print(col, type(col))"
   ]
  }
 ],
 "metadata": {
  "kernelspec": {
   "display_name": "base",
   "language": "python",
   "name": "python3"
  },
  "language_info": {
   "codemirror_mode": {
    "name": "ipython",
    "version": 3
   },
   "file_extension": ".py",
   "mimetype": "text/x-python",
   "name": "python",
   "nbconvert_exporter": "python",
   "pygments_lexer": "ipython3",
   "version": "3.8.8"
  },
  "orig_nbformat": 4,
  "vscode": {
   "interpreter": {
    "hash": "41c4e47f3fa8832d3f29f27d6842c0e1b6b770c32e283edd01c533054d852b17"
   }
  }
 },
 "nbformat": 4,
 "nbformat_minor": 2
}
