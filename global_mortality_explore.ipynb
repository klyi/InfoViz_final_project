{
 "cells": [
  {
   "cell_type": "code",
   "execution_count": 1,
   "metadata": {},
   "outputs": [],
   "source": [
    "import pandas as pd"
   ]
  },
  {
   "cell_type": "code",
   "execution_count": 2,
   "metadata": {},
   "outputs": [],
   "source": [
    "data = pd.read_csv(\"https://raw.githubusercontent.com/klyi/InfoViz_final_project/main/global_mortality.csv\")"
   ]
  },
  {
   "cell_type": "code",
   "execution_count": 8,
   "metadata": {},
   "outputs": [
    {
     "data": {
      "text/plain": [
       "Road accidents (%)  year  country      \n",
       "0.278404            1994  Rwanda           1\n",
       "2.574174            1998  Guyana           1\n",
       "2.481767            2002  Caribbean        1\n",
       "2.481035            2007  Guatemala        1\n",
       "2.480706            2007  Sri Lanka        1\n",
       "                                          ..\n",
       "1.517216            2001  Cote d'Ivoire    1\n",
       "1.517210            1998  Ghana            1\n",
       "1.516472            2006  New Zealand      1\n",
       "1.515731            2007  Djibouti         1\n",
       "20.900877           2008  Qatar            1\n",
       "Length: 6156, dtype: int64"
      ]
     },
     "execution_count": 8,
     "metadata": {},
     "output_type": "execute_result"
    }
   ],
   "source": [
    "data[[\"Road accidents (%)\", \"year\",\"country\"]].value_counts()"
   ]
  }
 ],
 "metadata": {
  "kernelspec": {
   "display_name": "base",
   "language": "python",
   "name": "python3"
  },
  "language_info": {
   "codemirror_mode": {
    "name": "ipython",
    "version": 3
   },
   "file_extension": ".py",
   "mimetype": "text/x-python",
   "name": "python",
   "nbconvert_exporter": "python",
   "pygments_lexer": "ipython3",
   "version": "3.8.8"
  },
  "orig_nbformat": 4,
  "vscode": {
   "interpreter": {
    "hash": "41c4e47f3fa8832d3f29f27d6842c0e1b6b770c32e283edd01c533054d852b17"
   }
  }
 },
 "nbformat": 4,
 "nbformat_minor": 2
}
